{
 "cells": [
  {
   "cell_type": "markdown",
   "source": [
    "Estimating prices with OpenAI-proxy sample"
   ],
   "metadata": {
    "collapsed": false
   }
  },
  {
   "cell_type": "code",
   "execution_count": null,
   "metadata": {
    "collapsed": true
   },
   "outputs": [],
   "source": [
    "import openai_proxy\n",
    "\n",
    "openai_proxy.username = \"kairos\"\n",
    "openai_proxy.course_id = \"8000\"\n",
    "openai_proxy.access_key = \"O6rbLM3-yYcwS5GaWZEghA\"\n",
    "openai_proxy.access_token = \"4q-_apNm72sGENVtYtcCXAnC7jEGnIUZfylHbEAEdFQ\"\n",
    "# OR\n",
    "openai_proxy.api_key = \"sk-h0pSnheoN1vl4mfrc0RuT3Blbk3J356L2MQdU1c9mZc6pwef\""
   ]
  },
  {
   "cell_type": "code",
   "source": [
    "response = openai_proxy.Completion.price(\n",
    "    engine=\"text-davinci-003\",\n",
    "    prompt=\"What can you say about the Aztec Empire. Thousands of years\",\n",
    "    max_tokens=200,\n",
    "    n=2,\n",
    ")\n",
    "\n",
    "print(response['price'])\n"
   ],
   "metadata": {
    "collapsed": false,
    "pycharm": {
     "name": "#%%\n"
    }
   },
   "execution_count": null,
   "outputs": []
  },
  {
   "cell_type": "code",
   "execution_count": null,
   "outputs": [],
   "source": [
    "response = openai_proxy.Completion.create(\n",
    "    engine=\"text-davinci-003\",\n",
    "    prompt=\"What can you say about the Aztec Empire. Thousands of years\",\n",
    "    temperature=0.7,\n",
    "    max_tokens=200,\n",
    "    top_p=1,\n",
    "    frequency_penalty=0,\n",
    "    presence_penalty=0,\n",
    "    stop=[\"###\", '\\n'],\n",
    "    n=2\n",
    ")\n",
    "\n",
    "print(response['choices'][0]['text'])\n",
    "print(response['price'])"
   ],
   "metadata": {
    "collapsed": false,
    "pycharm": {
     "name": "#%%\n"
    }
   }
  },
  {
   "cell_type": "code",
   "execution_count": null,
   "outputs": [],
   "source": [
    "response = openai_proxy.Embedding.create(\n",
    "    phrases=[\n",
    "        \"This is the first phrase\",\n",
    "        \"This is the second slightly longer phrase\",\n",
    "        \"This is the third phrase\",\n",
    "    ]\n",
    ")\n",
    "print(response)\n",
    "print(response['price'])"
   ],
   "metadata": {
    "collapsed": false,
    "pycharm": {
     "name": "#%%\n"
    }
   }
  },
  {
   "cell_type": "code",
   "execution_count": null,
   "outputs": [],
   "source": [
    "response = openai_proxy.ChatCompletion.create(\n",
    "    messages=[\n",
    "        {\n",
    "            \"role\": \"system\",\n",
    "            \"content\": \"You are a polite but sarcastic chat bot\"\n",
    "        },\n",
    "        {\n",
    "            \"role\": \"user\",\n",
    "            \"content\": \"What can you say about the Aztec Empire. Thousands of years\"\n",
    "        }],\n",
    "    model=\"gpt-3.5-turbo\",\n",
    ")\n",
    "print(response)\n",
    "print(response['price'])"
   ],
   "metadata": {
    "collapsed": false,
    "pycharm": {
     "name": "#%%\n"
    }
   }
  },
  {
   "cell_type": "code",
   "execution_count": null,
   "outputs": [],
   "source": [
    "response = openai_proxy.Image.price(\n",
    "    prompt=\"What can you say about the Aztec Empire. Thousands of years\",\n",
    "    n=2,\n",
    "    size=\"1024x1024\",\n",
    ")\n",
    "print(response)\n",
    "print(response['price'])"
   ],
   "metadata": {
    "collapsed": false,
    "pycharm": {
     "name": "#%%\n"
    }
   }
  },
  {
   "cell_type": "code",
   "execution_count": null,
   "outputs": [],
   "source": [
    "# To get the price of all the requests sent since last package import\n",
    "print(openai_proxy.session_price)"
   ],
   "metadata": {
    "collapsed": false,
    "pycharm": {
     "name": "#%%\n"
    }
   }
  }
 ],
 "metadata": {
  "kernelspec": {
   "display_name": "Python 3",
   "language": "python",
   "name": "python3"
  },
  "language_info": {
   "codemirror_mode": {
    "name": "ipython",
    "version": 2
   },
   "file_extension": ".py",
   "mimetype": "text/x-python",
   "name": "python",
   "nbconvert_exporter": "python",
   "pygments_lexer": "ipython2",
   "version": "2.7.6"
  }
 },
 "nbformat": 4,
 "nbformat_minor": 0
}